{
 "cells": [
  {
   "cell_type": "code",
   "execution_count": 1,
   "metadata": {},
   "outputs": [],
   "source": [
    "import nltk\n",
    "from collections import Counter\n",
    "import numpy as np"
   ]
  },
  {
   "cell_type": "code",
   "execution_count": 2,
   "metadata": {},
   "outputs": [],
   "source": [
    "def find_token(deterministic, counter):\n",
    "    if deterministic:\n",
    "        max_value = max(counter.values())\n",
    "        candidates = sorted([key for key in counter if counter[key] == max_value])\n",
    "        return candidates[0]\n",
    "    else:\n",
    "        counts = np.array(list(counter.values()))\n",
    "        p = counts/sum(counts)\n",
    "        return np.random.choice(np.array(list(counter.keys())), size = 1, p = p)[0]"
   ]
  },
  {
   "cell_type": "code",
   "execution_count": 15,
   "metadata": {},
   "outputs": [],
   "source": [
    "# Assume n <= length of sentence\n",
    "def create_token(sentence, backoff, deterministic, n):\n",
    "    if n > 1:\n",
    "        initial_prefix = sentence[-(n-1):]\n",
    "    else:\n",
    "        initial_prefix = []\n",
    "    found_token = False\n",
    "    while not found_token:\n",
    "        length = len(initial_prefix)\n",
    "        if length > 1:\n",
    "            if tuple(initial_prefix) in backoff[length]:\n",
    "                found_token = True\n",
    "                # return token either deterministically or not\n",
    "                return find_token(deterministic, backoff[length][tuple(initial_prefix)])\n",
    "            initial_prefix = initial_prefix[1:]\n",
    "        if length == 1:\n",
    "            if initial_prefix[0] in backoff[length]:\n",
    "                found_token = True\n",
    "                # return token either deterministically or not\n",
    "                return find_token(deterministic, backoff[length][initial_prefix[0]])\n",
    "            initial_prefix = []\n",
    "        else:\n",
    "            # return token from backoff[0]\n",
    "            return find_token(deterministic, backoff[0])"
   ]
  },
  {
   "cell_type": "code",
   "execution_count": 4,
   "metadata": {},
   "outputs": [],
   "source": [
    "def finish_sentence(sentence, n, corpus, deterministic=False):\n",
    "    # Create backoff list\n",
    "    backoff = []\n",
    "    backoff.append(Counter(corpus))\n",
    "    # Handle 2-gram case\n",
    "    dic = {}\n",
    "    for i in range(0,len(corpus)-1):\n",
    "        prefix = corpus[i]\n",
    "        next_word = corpus[i+1]\n",
    "        if prefix not in dic:\n",
    "            dic[prefix] = Counter()\n",
    "        if next_word not in dic[prefix]:\n",
    "            dic[prefix][next_word] = 0\n",
    "        dic[prefix][next_word] += 1\n",
    "    backoff.append(dic)\n",
    "    # Handle 3-grams to n-grams\n",
    "    for j in range(2, n):\n",
    "        dic = {}\n",
    "        for i in range(0,len(corpus)-j):\n",
    "            prefix = tuple(corpus[i:i+j])\n",
    "            next_word = corpus[i+j]\n",
    "            if prefix not in dic:\n",
    "                dic[prefix] = Counter()\n",
    "            if next_word not in dic[prefix]:\n",
    "                dic[prefix][next_word] = 0\n",
    "            dic[prefix][next_word] += 1\n",
    "        backoff.append(dic)\n",
    "    \n",
    "    while True:\n",
    "        token = create_token(sentence, backoff, deterministic, n)\n",
    "        sentence.append(token)\n",
    "        if token == \".\" or token == \"!\" or token == \"?\" or len(sentence) == 15:\n",
    "            return sentence"
   ]
  },
  {
   "cell_type": "code",
   "execution_count": 5,
   "metadata": {},
   "outputs": [],
   "source": [
    "sentence = [\"she\", \"was\", \"not\"]\n",
    "n = 3\n",
    "corpus = [\n",
    "w.lower() for w in\n",
    "nltk.corpus.gutenberg.words(\"austen-sense.txt\")\n",
    "]\n",
    "deterministic = True"
   ]
  },
  {
   "cell_type": "code",
   "execution_count": null,
   "metadata": {},
   "outputs": [],
   "source": [
    "print(finish_sentence(sentence, n, corpus, False))"
   ]
  },
  {
   "cell_type": "code",
   "execution_count": 16,
   "metadata": {},
   "outputs": [
    {
     "name": "stdout",
     "output_type": "stream",
     "text": [
      "['she', 'was', 'not', ',', ',', ',', ',', ',', ',', ',', ',', ',', ',', ',', ',']\n"
     ]
    }
   ],
   "source": [
    "sentence = [\"she\", \"was\", \"not\"]\n",
    "print(finish_sentence(sentence, 2, corpus, True))"
   ]
  },
  {
   "cell_type": "code",
   "execution_count": 14,
   "metadata": {},
   "outputs": [
    {
     "data": {
      "text/plain": [
       "0"
      ]
     },
     "execution_count": 14,
     "metadata": {},
     "output_type": "execute_result"
    }
   ],
   "source": [
    "len([])"
   ]
  },
  {
   "cell_type": "code",
   "execution_count": null,
   "metadata": {},
   "outputs": [],
   "source": []
  },
  {
   "cell_type": "code",
   "execution_count": null,
   "metadata": {},
   "outputs": [],
   "source": []
  }
 ],
 "metadata": {
  "kernelspec": {
   "display_name": "Python 3",
   "language": "python",
   "name": "python3"
  },
  "language_info": {
   "codemirror_mode": {
    "name": "ipython",
    "version": 3
   },
   "file_extension": ".py",
   "mimetype": "text/x-python",
   "name": "python",
   "nbconvert_exporter": "python",
   "pygments_lexer": "ipython3",
   "version": "3.7.6"
  }
 },
 "nbformat": 4,
 "nbformat_minor": 4
}
